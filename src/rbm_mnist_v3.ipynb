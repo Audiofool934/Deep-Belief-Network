{
 "cells": [
  {
   "cell_type": "markdown",
   "id": "e966a93f",
   "metadata": {},
   "source": [
    "# Restricted Boltzmann Machine (RBM) for MNIST\n",
    "\n",
    "This notebook demonstrates the training of a Restricted Boltzmann Machine (RBM) on the MNIST dataset using PyTorch."
   ]
  },
  {
   "cell_type": "code",
   "execution_count": 21,
   "id": "d494e2e3",
   "metadata": {},
   "outputs": [
    {
     "name": "stdout",
     "output_type": "stream",
     "text": [
      "The autoreload extension is already loaded. To reload it, use:\n",
      "  %reload_ext autoreload\n"
     ]
    }
   ],
   "source": [
    "%load_ext autoreload\n",
    "%autoreload 2"
   ]
  },
  {
   "cell_type": "code",
   "execution_count": 22,
   "id": "daaeec0a",
   "metadata": {},
   "outputs": [
    {
     "name": "stdout",
     "output_type": "stream",
     "text": [
      "Using device: mps\n"
     ]
    }
   ],
   "source": [
    "import os\n",
    "import torch\n",
    "import torch.utils.data as data\n",
    "import matplotlib.pyplot as plt\n",
    "from models.rbm_v3 import RBM, GaussianBernoulliRBM\n",
    "from utils.rbm_utils import *\n",
    "from sklearn.preprocessing import StandardScaler\n",
    "\n",
    "torch.manual_seed(42)\n",
    "\n",
    "if torch.cuda.is_available():\n",
    "    device = torch.device(\"cuda\")\n",
    "elif hasattr(torch.backends, \"mps\") and torch.backends.mps.is_available():\n",
    "    device = torch.device(\"mps\")\n",
    "else:\n",
    "    device = torch.device(\"cpu\")\n",
    "\n",
    "print(f\"Using device: {device}\")"
   ]
  },
  {
   "cell_type": "code",
   "execution_count": 23,
   "id": "e8422ff0",
   "metadata": {},
   "outputs": [],
   "source": [
    "MODEL_TYPE = \"RBM\"\n",
    "BATCH_SIZE = 128\n",
    "N_FEATURES = 28 * 28  # Input dimensions MNIST image size\n",
    "N_HIDDEN = 256 # Number of hidden units\n",
    "N_CLASSES = 10\n",
    "EPOCHS = 50  # Keep low for quick demo\n",
    "LR = 0.005  # AdamW often works better than SGD for RBMs\n",
    "K_CD = 1\n",
    "CLASSIFY_INTERVAL = 2  # Check accuracy every 5 epochs\n",
    "TRAINING_METHOD = \"mle\"\n",
    "FILE_PATH = f\"./models/checkpoint/{MODEL_TYPE}_{TRAINING_METHOD}_{EPOCHS}.pth\""
   ]
  },
  {
   "cell_type": "markdown",
   "id": "8f8f9be6",
   "metadata": {},
   "source": [
    "## Load and Preprocess MNIST Dataset\n",
    "\n",
    "We'll load the MNIST dataset using torchvision, convert the images to tensors, and normalize them. Since RBMs work with binary data, we'll binarize the images using a threshold."
   ]
  },
  {
   "cell_type": "code",
   "execution_count": 24,
   "id": "0f3dcb1e",
   "metadata": {},
   "outputs": [],
   "source": [
    "train_dataset, test_dataset = MNIST()\n",
    "\n",
    "if MODEL_TYPE == \"RBM\":\n",
    "\t# features [60000, 784]\n",
    "\ttrain_features = (train_dataset.data.view(-1, N_FEATURES).float() / 255.0 > 0.5).float()\n",
    "\ttest_features = (test_dataset.data.view(-1, N_FEATURES).float() / 255.0 > 0.5).float()\n",
    "\n",
    "\t# labels [60000]\n",
    "\ttrain_labels = train_dataset.targets\n",
    "\ttest_labels = test_dataset.targets\n",
    "\n",
    "elif MODEL_TYPE == \"GRBM\":\n",
    "\tscaler = StandardScaler()\n",
    "\ttrain_features_flat = (\n",
    "\t\ttrain_dataset.data.view(-1, N_FEATURES).float().numpy()\n",
    "\t)\n",
    "\ttest_features_flat = test_dataset.data.view(-1, N_FEATURES).float().numpy()\n",
    "\n",
    "\t# Fit on training data ONLY\n",
    "\tscaler.fit(train_features_flat)\n",
    "\ttrain_features = torch.tensor(\n",
    "\t\tscaler.transform(train_features_flat), dtype=torch.float32\n",
    "\t)\n",
    "\ttest_features = torch.tensor(\n",
    "\t\tscaler.transform(test_features_flat), dtype=torch.float32\n",
    "\t)\n",
    "\n",
    "\ttrain_labels = train_dataset.targets\n",
    "\ttest_labels = test_dataset.targets\n",
    "\tlearn_std_grbm = True  # Learn the std dev\n",
    "\tinitial_std_grbm = 1.0  # Start near 1 since data is normalized\n",
    "\n",
    "train_torch_dataset = data.TensorDataset(train_features, train_labels)\n",
    "test_torch_dataset = data.TensorDataset(test_features, test_labels)\n",
    "\n",
    "# DataLoader\n",
    "train_loader = data.DataLoader(\n",
    "\ttrain_torch_dataset,\n",
    "\tbatch_size=BATCH_SIZE,\n",
    "\tshuffle=True,\n",
    "\tnum_workers=2,\n",
    "\tpin_memory=True,\n",
    ")\n",
    "test_loader = data.DataLoader(\n",
    "\ttest_torch_dataset,\n",
    "\tbatch_size=BATCH_SIZE,\n",
    "\tshuffle=False,\n",
    "\tnum_workers=2,\n",
    "\tpin_memory=True,\n",
    ")"
   ]
  },
  {
   "cell_type": "code",
   "execution_count": 25,
   "id": "cc1d5391",
   "metadata": {},
   "outputs": [],
   "source": [
    "# plt.figure(figsize=(10, 5))\n",
    "# for i in range(10):\n",
    "#     img = train_dataset[i][0].squeeze().numpy()\n",
    "#     plt.subplot(2, 5, i + 1)\n",
    "#     plt.imshow(img, cmap=\"gray\")\n",
    "#     plt.title(f\"Label: {train_dataset[i][1]}\")\n",
    "#     plt.axis(\"off\")\n",
    "# plt.tight_layout()\n",
    "# plt.show()"
   ]
  },
  {
   "cell_type": "markdown",
   "id": "885b0e44",
   "metadata": {},
   "source": [
    "## Define RBM Model\n",
    "\n",
    "Now we'll instantiate our RBM model using the class from `rbm.py`. For MNIST:\n",
    "- n_visible = 784 (28x28 pixels flattened)\n",
    "- n_hidden = 256 (a common choice for MNIST)\n",
    "- training_method = \"cd\" (contrastive divergence)"
   ]
  },
  {
   "cell_type": "code",
   "execution_count": 26,
   "id": "6ebf4096",
   "metadata": {},
   "outputs": [
    {
     "name": "stdout",
     "output_type": "stream",
     "text": [
      "Initializing RBM: 784 features, 10 classes, 256 hidden units on device: mps\n",
      "RBM Configuration:\n",
      "Visible units: 784\n",
      "Hidden units: 256\n",
      "Model parameters on device: mps:0\n"
     ]
    }
   ],
   "source": [
    "if MODEL_TYPE == \"RBM\":\n",
    "\trbm = RBM(\n",
    "\t\tn_visible_features=N_FEATURES,\n",
    "\t\tn_hidden=N_HIDDEN,\n",
    "\t\tn_classes=N_CLASSES,\n",
    "\t\tdevice=device,\n",
    "\t)\n",
    "elif MODEL_TYPE == \"GRBM\":\n",
    "\trbm = GaussianBernoulliRBM(\n",
    "\t\tn_visible_features=N_FEATURES,\n",
    "\t\tn_hidden=N_HIDDEN,\n",
    "\t\tn_classes=N_CLASSES,\n",
    "\t\tlearn_std=learn_std_grbm,\n",
    "\t\tinitial_std=initial_std_grbm,\n",
    "\t)\n",
    "\n",
    "print(f\"RBM Configuration:\")\n",
    "print(f\"Visible units: {N_FEATURES}\")\n",
    "print(f\"Hidden units: {N_HIDDEN}\")\n",
    "print(f\"Model parameters on device: {next(rbm.parameters()).device}\")"
   ]
  },
  {
   "cell_type": "markdown",
   "id": "05578a4c",
   "metadata": {},
   "source": [
    "## Train RBM on MNIST\n",
    "\n",
    "Now we'll train the RBM using the `train_rbm` method provided in the implementation. We need to ensure that we binarize the MNIST data before feeding it to the RBM."
   ]
  },
  {
   "cell_type": "code",
   "execution_count": 27,
   "id": "897abfc1",
   "metadata": {},
   "outputs": [
    {
     "name": "stdout",
     "output_type": "stream",
     "text": [
      "Loading RBM weights from ./models/checkpoint/RBM_mle_50.pth\n",
      "RBM weights loaded from ./models/checkpoint/RBM_mle_50.pth\n"
     ]
    }
   ],
   "source": [
    "import pickle\n",
    "\n",
    "history_path = f\"{FILE_PATH}_history.pkl\"\n",
    "\n",
    "if os.path.exists(FILE_PATH):\n",
    "\tprint(f\"Loading RBM weights from {FILE_PATH}\")\n",
    "\trbm.load_state_dict(torch.load(FILE_PATH))\n",
    "\trbm.eval()  # Set the model to evaluation mode\n",
    "\tprint(f\"RBM weights loaded from {FILE_PATH}\")\n",
    "else:\n",
    "\thistory = rbm.train_rbm(\n",
    "\t\ttrain_loader,\n",
    "\t\ttraining_method=TRAINING_METHOD,\n",
    "\t\tlr=LR,\n",
    "\t\tk=K_CD,\n",
    "\t\tepochs=EPOCHS,\n",
    "\t\trecord_metrics=True,\n",
    "\t\tweight_decay=1e-4,\n",
    "\t\tclassification_interval=CLASSIFY_INTERVAL,\n",
    "\t)\n",
    "\t\n",
    "\ttorch.save(rbm.state_dict(), FILE_PATH)\n",
    "\t\n",
    "\twith open(history_path, 'wb') as f:\n",
    "\t\tpickle.dump(history, f)\n",
    "\tprint(f\"Training history saved to {history_path}\")\n",
    "\n",
    "if os.path.exists(history_path):\n",
    "\twith open(history_path, 'rb') as f:\n",
    "\t\thistory = pickle.load(f)\n",
    "\t\tvisualize_training_history(history)"
   ]
  },
  {
   "cell_type": "markdown",
   "id": "50cc8e88",
   "metadata": {},
   "source": [
    "## Reconstructions"
   ]
  },
  {
   "cell_type": "code",
   "execution_count": 28,
   "id": "bf99a101",
   "metadata": {},
   "outputs": [
    {
     "data": {
      "image/png": "[encoded data removed]",
      "text/plain": [
       "<Figure size 1200x600 with 20 Axes>"
      ]
     },
     "metadata": {},
     "output_type": "display_data"
    }
   ],
   "source": [
    "visualize_reconstructions(rbm, test_loader, device=device, n_samples=10)"
   ]
  },
  {
   "cell_type": "markdown",
   "id": "b3e46787",
   "metadata": {},
   "source": [
    "## Generate Samples by label"
   ]
  },
  {
   "cell_type": "code",
   "execution_count": 29,
   "id": "6b0d9e90",
   "metadata": {},
   "outputs": [
    {
     "data": {
      "image/png": "[encoded data removed]",
      "text/plain": [
       "<Figure size 1500x1500 with 100 Axes>"
      ]
     },
     "metadata": {},
     "output_type": "display_data"
    }
   ],
   "source": [
    "n_generate_per_class = 10\n",
    "fig, axes = plt.subplots(\n",
    "    N_CLASSES,\n",
    "    n_generate_per_class,\n",
    "    figsize=(n_generate_per_class * 1.5, N_CLASSES * 1.5),\n",
    ")\n",
    "# fig.suptitle(f\"RBM Generated Samples by Label\", fontsize=16)\n",
    "\n",
    "for digit in range(N_CLASSES):\n",
    "    generated_features = rbm.generate(\n",
    "        target_label=digit,\n",
    "        n_samples=n_generate_per_class,\n",
    "        gibbs_steps=1000,  # More steps for better samples\n",
    "    )\n",
    "    \n",
    "    if MODEL_TYPE == \"GRBM\" and \"scaler\" in locals():\n",
    "        generated_features = torch.tensor(\n",
    "\t\t\tscaler.inverse_transform(generated_features.numpy()),\n",
    "\t\t\tdtype=torch.float32,\n",
    "\t\t)\n",
    "  \n",
    "    for i in range(n_generate_per_class):\n",
    "        ax = axes[digit, i]\n",
    "        img = generated_features[i].view(28, 28).cpu().numpy()\n",
    "        ax.imshow(img, cmap=\"gray\")\n",
    "        ax.set_title(f\"Gen: {digit}\")\n",
    "        ax.axis(\"off\")\n",
    "\n",
    "plt.tight_layout(rect=[0, 0.03, 1, 0.95])\n",
    "plt.show()"
   ]
  },
  {
   "cell_type": "markdown",
   "id": "e2d55aca",
   "metadata": {},
   "source": [
    "## Classification"
   ]
  },
  {
   "cell_type": "code",
   "execution_count": 30,
   "id": "fd0637d4",
   "metadata": {},
   "outputs": [
    {
     "name": "stdout",
     "output_type": "stream",
     "text": [
      "\n",
      "Calculating final classification accuracy on Test Set...\n",
      "Test Set Classification Accuracy: 94.07%\n"
     ]
    }
   ],
   "source": [
    "print(\"\\nCalculating final classification accuracy on Test Set...\")\n",
    "correct_predictions = 0\n",
    "total_samples = 0\n",
    "rbm.eval()\n",
    "with torch.no_grad():\n",
    "\tfor features, labels in test_loader:\n",
    "\t\tfeatures = features.view(features.size(0), -1)  # Flatten if needed\n",
    "\t\tpredicted_labels = rbm.classify(features)\n",
    "\t\tcorrect_predictions += (\n",
    "\t\t\t(predicted_labels.cpu() == labels.cpu()).sum().item()\n",
    "\t\t)\n",
    "\t\ttotal_samples += labels.size(0)\n",
    "\n",
    "if total_samples > 0:\n",
    "\ttest_accuracy = (correct_predictions / total_samples) * 100\n",
    "\tprint(f\"Test Set Classification Accuracy: {test_accuracy:.2f}%\")\n",
    "else:\n",
    "\tprint(\"Could not calculate test accuracy (no samples processed).\")"
   ]
  }
 ],
 "metadata": {
  "kernelspec": {
   "display_name": "py312",
   "language": "python",
   "name": "python3"
  },
  "language_info": {
   "codemirror_mode": {
    "name": "ipython",
    "version": 3
   },
   "file_extension": ".py",
   "mimetype": "text/x-python",
   "name": "python",
   "nbconvert_exporter": "python",
   "pygments_lexer": "ipython3",
   "version": "3.12.2"
  }
 },
 "nbformat": 4,
 "nbformat_minor": 5
}
